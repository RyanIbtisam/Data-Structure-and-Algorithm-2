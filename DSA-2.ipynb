{
  "nbformat": 4,
  "nbformat_minor": 0,
  "metadata": {
    "colab": {
      "provenance": []
    },
    "kernelspec": {
      "name": "python3",
      "display_name": "Python 3"
    },
    "language_info": {
      "name": "python"
    }
  },
  "cells": [
    {
      "cell_type": "markdown",
      "source": [],
      "metadata": {
        "id": "yVzswsho4p4O"
      }
    },
    {
      "cell_type": "markdown",
      "source": [
        "**Radix Sort**"
      ],
      "metadata": {
        "id": "oAb4RAj84urs"
      }
    },
    {
      "cell_type": "code",
      "execution_count": null,
      "metadata": {
        "colab": {
          "base_uri": "https://localhost:8080/"
        },
        "id": "hZ8LMXQv4dw9",
        "outputId": "6d624a6e-48a5-4848-d03f-820838cc728f"
      },
      "outputs": [
        {
          "output_type": "stream",
          "name": "stdout",
          "text": [
            "Original array: [170, 45, 75, 90, 802, 24, 2, 66]\n",
            "Sorted array: [2, 24, 45, 66, 75, 90, 170, 802]\n"
          ]
        }
      ],
      "source": [
        "myArray = [170, 45, 75, 90, 802, 24, 2, 66]\n",
        "print(\"Original array:\", myArray)\n",
        "radixArray = [[], [], [], [], [], [], [], [], [], []]\n",
        "maxVal = max(myArray)\n",
        "exp = 1\n",
        "\n",
        "while maxVal // exp > 0:\n",
        "\n",
        "    while len(myArray) > 0:\n",
        "        val = myArray.pop()\n",
        "        radixIndex = (val // exp) % 10\n",
        "        radixArray[radixIndex].append(val)\n",
        "\n",
        "    for bucket in radixArray:\n",
        "        while len(bucket) > 0:\n",
        "            val = bucket.pop()\n",
        "            myArray.append(val)\n",
        "\n",
        "    exp *= 10\n",
        "\n",
        "print(\"Sorted array:\", myArray)\n",
        "\n"
      ]
    },
    {
      "cell_type": "markdown",
      "source": [
        "*** **Radix Sort with Bubble Sort**"
      ],
      "metadata": {
        "id": "wJT8ydJy5BL_"
      }
    },
    {
      "cell_type": "code",
      "source": [
        "myArray = [170, 45, 75, 90, 802, 24, 2, 66]\n",
        "print(\"Original array:\", myArray)\n",
        "radixArray = [[], [], [], [], [], [], [], [], [], []]\n",
        "maxVal = max(myArray)\n",
        "exp = 1\n",
        "\n",
        "while maxVal // exp > 0:\n",
        "\n",
        "    while len(myArray) > 0:\n",
        "        val = myArray.pop()\n",
        "        radixIndex = (val // exp) % 10\n",
        "        radixArray[radixIndex].append(val)\n",
        "\n",
        "    for bucket in radixArray:\n",
        "        while len(bucket) > 0:\n",
        "            val = bucket.pop()\n",
        "            myArray.append(val)\n",
        "\n",
        "    exp *= 10\n",
        "\n",
        "print(\"Sorted array:\", myArray)\n",
        "\n"
      ],
      "metadata": {
        "colab": {
          "base_uri": "https://localhost:8080/"
        },
        "id": "h5WZgdOm4kd1",
        "outputId": "a28053b4-4bbf-4946-8a4d-e73073080536"
      },
      "execution_count": null,
      "outputs": [
        {
          "output_type": "stream",
          "name": "stdout",
          "text": [
            "Original array: [170, 45, 75, 90, 802, 24, 2, 66]\n",
            "Sorted array: [2, 24, 45, 66, 75, 90, 170, 802]\n"
          ]
        }
      ]
    },
    {
      "cell_type": "markdown",
      "source": [
        "**Merge Sort**"
      ],
      "metadata": {
        "id": "6mHk3nwo5vht"
      }
    },
    {
      "cell_type": "code",
      "source": [
        "def mergeSort(arr):\n",
        "    if len(arr) <= 1:\n",
        "        return arr\n",
        "\n",
        "    mid = len(arr) // 2\n",
        "    leftHalf = arr[:mid]\n",
        "    rightHalf = arr[mid:]\n",
        "\n",
        "    sortedLeft = mergeSort(leftHalf)\n",
        "    sortedRight = mergeSort(rightHalf)\n",
        "\n",
        "    return merge(sortedLeft, sortedRight)\n",
        "\n",
        "def merge(left, right):\n",
        "    result = []\n",
        "    i = j = 0\n",
        "\n",
        "    while i < len(left) and j < len(right):\n",
        "        if left[i] < right[j]:\n",
        "            result.append(left[i])\n",
        "            i += 1\n",
        "        else:\n",
        "            result.append(right[j])\n",
        "            j += 1\n",
        "\n",
        "    result.extend(left[i:])\n",
        "    result.extend(right[j:])\n",
        "\n",
        "    return result\n",
        "\n",
        "unsortedArr = [3, 7, 6, -10, 15, 23.5, 55, -13]\n",
        "sortedArr = mergeSort(unsortedArr)\n",
        "print(\"Sorted array:\", sortedArr)\n",
        "\n"
      ],
      "metadata": {
        "colab": {
          "base_uri": "https://localhost:8080/"
        },
        "id": "hnrWBVgJHiTF",
        "outputId": "8475d1fd-5d1d-4ae8-9685-06dacc0ae2bb"
      },
      "execution_count": null,
      "outputs": [
        {
          "output_type": "stream",
          "name": "stdout",
          "text": [
            "Sorted array: [-13, -10, 3, 6, 7, 15, 23.5, 55]\n"
          ]
        }
      ]
    },
    {
      "cell_type": "markdown",
      "source": [
        " **Merge sort without recursion**\n"
      ],
      "metadata": {
        "id": "l9O3IwcS4nzd"
      }
    },
    {
      "cell_type": "code",
      "source": [
        "def merge(left, right):\n",
        "    result = []\n",
        "    i = j = 0\n",
        "\n",
        "    while i < len(left) and j < len(right):\n",
        "        if left[i] < right[j]:\n",
        "            result.append(left[i])\n",
        "            i += 1\n",
        "        else:\n",
        "            result.append(right[j])\n",
        "            j += 1\n",
        "\n",
        "    result.extend(left[i:])\n",
        "    result.extend(right[j:])\n",
        "\n",
        "    return result\n",
        "\n",
        "def mergeSort(arr):\n",
        "    step = 1  # Starting with sub-arrays of length 1\n",
        "    length = len(arr)\n",
        "\n",
        "    while step < length:\n",
        "        for i in range(0, length, 2 * step):\n",
        "            left = arr[i:i + step]\n",
        "            right = arr[i + step:i + 2 * step]\n",
        "\n",
        "            merged = merge(left, right)\n",
        "\n",
        "            # Place the merged array back into the original array\n",
        "            for j, val in enumerate(merged):\n",
        "                arr[i + j] = val\n",
        "\n",
        "        step *= 2  # Double the sub-array length for the next iteration\n",
        "\n",
        "    return arr\n",
        "\n",
        "unsortedArr = [3, 7, 6, -10, 15, 23.5, 55, -13]\n",
        "sortedArr = mergeSort(unsortedArr)\n",
        "print(\"Sorted array:\", sortedArr)\n",
        "\n",
        "\n",
        "\n",
        "\n",
        "\n",
        "\n",
        "\n",
        "\n",
        "\n",
        "\n",
        "\n",
        "\n"
      ],
      "metadata": {
        "colab": {
          "base_uri": "https://localhost:8080/"
        },
        "id": "URTnwI4pX3bA",
        "outputId": "8ce6b5dd-4a84-4efe-882e-0c480c186cdf"
      },
      "execution_count": null,
      "outputs": [
        {
          "output_type": "stream",
          "name": "stdout",
          "text": [
            "Sorted array: [-13, -10, 3, 6, 7, 15, 23.5, 55]\n"
          ]
        }
      ]
    },
    {
      "cell_type": "markdown",
      "source": [
        "**Linear Search**"
      ],
      "metadata": {
        "id": "kkv1RKsZBthq"
      }
    },
    {
      "cell_type": "code",
      "source": [
        "def linearSearch(arr,targetVal):\n",
        "  for i in range (len(arr)):\n",
        "    if arr[i]==targetVal:\n",
        "      return i\n",
        "    return -1\n",
        "arr=[3,5,7,9,11,13]\n",
        "targetVal=9\n",
        "result=linearSearch(arr,targetVal)\n",
        "if result!=-1:\n",
        "  print(\"value\",targetVal,\"found at index\",result)\n",
        "else:\n",
        "  print(\"Value\",targetVal,\"not found\")\n"
      ],
      "metadata": {
        "colab": {
          "base_uri": "https://localhost:8080/"
        },
        "id": "0xAA9rBNrz6P",
        "outputId": "db360b8a-8df5-449d-f614-fd484baba96a"
      },
      "execution_count": null,
      "outputs": [
        {
          "output_type": "stream",
          "name": "stdout",
          "text": [
            "Value 9 not found\n"
          ]
        }
      ]
    },
    {
      "cell_type": "markdown",
      "source": [
        " **Binary Search**"
      ],
      "metadata": {
        "id": "lXCVLXUQExVl"
      }
    },
    {
      "cell_type": "code",
      "source": [
        "def binarySearch(arr, targetVal):\n",
        "    left = 0\n",
        "    right = len(arr) - 1\n",
        "\n",
        "    while left <= right:\n",
        "        mid = (left + right) // 2\n",
        "\n",
        "        if arr[mid] == targetVal:\n",
        "            return mid\n",
        "\n",
        "        if arr[mid] < targetVal:\n",
        "            left = mid + 1\n",
        "        else:\n",
        "            right = mid - 1\n",
        "\n",
        "    return -1\n",
        "\n",
        "myArray = [1, 3, 5, 7, 9, 11, 13, 15, 17, 19]\n",
        "myTarget = 15\n",
        "\n",
        "result = binarySearch(myArray, myTarget)\n",
        "\n",
        "if result != -1:\n",
        "    print(\"Value\",myTarget,\"found at index\", result)\n",
        "else:\n",
        "    print(\"Target not found in array.\")\n"
      ],
      "metadata": {
        "colab": {
          "base_uri": "https://localhost:8080/"
        },
        "id": "FdOmX4uvaPc4",
        "outputId": "81b84259-f8da-4c31-a22f-64a220ca406c"
      },
      "execution_count": null,
      "outputs": [
        {
          "output_type": "stream",
          "name": "stdout",
          "text": [
            "Value 15 found at index 7\n"
          ]
        }
      ]
    },
    {
      "cell_type": "markdown",
      "source": [
        "**Linked List**"
      ],
      "metadata": {
        "id": "BrqmruECar-1"
      }
    },
    {
      "cell_type": "code",
      "source": [
        "class Node:\n",
        "  def __init__(self, data):\n",
        "    self.data=data\n",
        "    self.next=None\n",
        "node1=Node(3)\n",
        "node2=Node(5)\n",
        "node3=Node(13)\n",
        "node4=Node(2)\n",
        "\n",
        "node1.next=node2\n",
        "node2.next=node3\n",
        "node3.next=node4\n",
        "\n",
        "currentNode=node1\n",
        "while currentNode:\n",
        "  print(\"currentNode.data\",end=\"->\")\n",
        "  currentNode=currentNode.next\n",
        "print(\"null\")\n",
        "\n",
        "\n",
        "\n",
        "\n",
        "\n"
      ],
      "metadata": {
        "colab": {
          "base_uri": "https://localhost:8080/"
        },
        "id": "E0WVr18Ua-uf",
        "outputId": "c5db1835-8a7e-44a6-a052-803eea9b59cf"
      },
      "execution_count": null,
      "outputs": [
        {
          "output_type": "stream",
          "name": "stdout",
          "text": [
            "currentNode.data->currentNode.data->currentNode.data->currentNode.data->null\n"
          ]
        }
      ]
    },
    {
      "cell_type": "markdown",
      "source": [
        "**Doubly Linked List**"
      ],
      "metadata": {
        "id": "756DH0JHevTn"
      }
    },
    {
      "cell_type": "code",
      "source": [
        "class Node:\n",
        "  def __init__(self, data):\n",
        "    self.data=data\n",
        "    self.next=None\n",
        "    self.prev=None\n",
        "node1=Node(3)\n",
        "node2=Node(5)\n",
        "node3=Node(13)\n",
        "node4=Node(2)\n",
        "\n",
        "node1.next=node2\n",
        "node2.prev=node1\n",
        "node2.next=node3\n",
        "\n",
        "node3.prev=node2\n",
        "node3.next=node4\n",
        "\n",
        "node4.prev=node3\n",
        "print(\"\\ Transversing forward:\")\n",
        "currentNode=node1\n",
        "while currentNode:\n",
        "  print(\"currentNode.Data\",end=\"->\")\n",
        "  currentNode=currentNode.next\n",
        "print(\"null\")\n",
        "print(\"\\ Transversing backward:\")\n",
        "currentNode=node4\n",
        "while currentNode:\n",
        "  print(\"currentNode.Data\",end=\"->\")\n",
        "  currentNode=currentNode.prev\n",
        "print(\"null\")\n",
        "\n",
        "\n"
      ],
      "metadata": {
        "colab": {
          "base_uri": "https://localhost:8080/"
        },
        "id": "VWEJRg0naNA9",
        "outputId": "1bca05de-658f-4e1e-cc0f-dccf513e8ed2"
      },
      "execution_count": null,
      "outputs": [
        {
          "output_type": "stream",
          "name": "stdout",
          "text": [
            "\\ Transversing forward:\n",
            "currentNode.Data->currentNode.Data->currentNode.Data->currentNode.Data->null\n",
            "\\ Transversing backward:\n",
            "currentNode.Data->currentNode.Data->currentNode.Data->currentNode.Data->null\n"
          ]
        }
      ]
    },
    {
      "cell_type": "markdown",
      "source": [
        "**Circular Singly List**"
      ],
      "metadata": {
        "id": "qCRneVRtg1ws"
      }
    },
    {
      "cell_type": "code",
      "source": [
        "class Node:\n",
        "  def __init__(self, data):\n",
        "        self.data = data\n",
        "        self.next = None\n",
        "\n",
        "node1 = Node(3)\n",
        "node2 = Node(5)\n",
        "node3 = Node(13)\n",
        "node4 = Node(2)\n",
        "\n",
        "node1.next = node2\n",
        "node2.next = node3\n",
        "node3.next = node4\n",
        "node4.next = node1\n",
        "\n",
        "currentNode=node1\n",
        "startNode=node1\n",
        "print(\"currentNode.Data\",end=\"->\")\n",
        "currentNode=currentNode.next\n",
        "\n",
        "while currentNode !=startNode:\n",
        "  print(currentNode.data,end=\"->\")\n",
        "  currentNode=currentNode.next\n",
        "print(\"...\")\n"
      ],
      "metadata": {
        "colab": {
          "base_uri": "https://localhost:8080/"
        },
        "id": "keQaSo0GeZN8",
        "outputId": "fa886dbd-64af-453d-c076-84fc35bde4a8"
      },
      "execution_count": null,
      "outputs": [
        {
          "output_type": "stream",
          "name": "stdout",
          "text": [
            "currentNode.Data->5->13->2->...\n"
          ]
        }
      ]
    },
    {
      "cell_type": "markdown",
      "source": [
        "**Circular Doubly List**"
      ],
      "metadata": {
        "id": "6T-c_4bZDaI8"
      }
    },
    {
      "cell_type": "code",
      "source": [
        "class Node:\n",
        "  def __init__(self, data):\n",
        "    self.data=data\n",
        "    self.next=None\n",
        "    self.prev=None\n",
        "node1=Node(3)\n",
        "node2=Node(5)\n",
        "node3=Node(13)\n",
        "node4=Node(2)\n",
        "\n",
        "node1.next = node2\n",
        "node1.prev = node4\n",
        "\n",
        "node2.prev = node1\n",
        "node2.next = node3\n",
        "\n",
        "node3.prev = node2\n",
        "node3.next = node4\n",
        "\n",
        "node4.prev = node3\n",
        "node4.next = node1\n",
        "\n",
        "print(\"\\nTraversing forward:\")\n",
        "currentNode = node1\n",
        "startNode = node1\n",
        "print(currentNode.data, end=\" -> \")\n",
        "currentNode = currentNode.next\n",
        "\n",
        "while currentNode != startNode:\n",
        "    print(currentNode.data, end=\" -> \")\n",
        "    currentNode = currentNode.next\n",
        "print(\"...\")\n",
        "\n",
        "print(\"\\nTraversing backward:\")\n",
        "currentNode = node4\n",
        "startNode = node4\n",
        "print(currentNode.data, end=\" -> \")\n",
        "currentNode = currentNode.prev\n",
        "\n",
        "while currentNode != startNode:\n",
        "    print(currentNode.data, end=\" -> \")\n",
        "    currentNode = currentNode.prev\n",
        "print(\"...\")\n"
      ],
      "metadata": {
        "colab": {
          "base_uri": "https://localhost:8080/"
        },
        "id": "fORU6Cb0gwKT",
        "outputId": "35c31a45-8096-4257-bf39-a9cb1b5a95af"
      },
      "execution_count": null,
      "outputs": [
        {
          "output_type": "stream",
          "name": "stdout",
          "text": [
            "\n",
            "Traversing forward:\n",
            "3 -> 5 -> 13 -> 2 -> ...\n",
            "\n",
            "Traversing backward:\n",
            "2 -> 13 -> 5 -> 3 -> ...\n"
          ]
        }
      ]
    },
    {
      "cell_type": "markdown",
      "source": [
        "**Linked List**"
      ],
      "metadata": {
        "id": "ENf_CRSKDPeg"
      }
    },
    {
      "cell_type": "code",
      "source": [
        "class Node:\n",
        "  def __init__(self, data):\n",
        "    self.data=data\n",
        "    self.next=None\n",
        "def traverseAndPrint(head):\n",
        "  currentNode=head\n",
        "  while currentNode:\n",
        "    print(currentNode.data,end=\">\")\n",
        "    currentNode=currentNode.next\n",
        "  print(\"null\")\n",
        "node1=Node(7)\n",
        "node2=Node(11)\n",
        "node3=Node(3)\n",
        "node4=Node(2)\n",
        "node5=Node(9)\n",
        "\n",
        "node1.next=node2\n",
        "node2.next=node3\n",
        "node3.next=node4\n",
        "node4.next=node5\n",
        "\n",
        "traverseAndPrint(node1)\n",
        "\n",
        "\n"
      ],
      "metadata": {
        "colab": {
          "base_uri": "https://localhost:8080/"
        },
        "id": "ws97YFLC-GTe",
        "outputId": "1b4f3f43-8862-4511-baf9-f75525b1fb93"
      },
      "execution_count": null,
      "outputs": [
        {
          "output_type": "stream",
          "name": "stdout",
          "text": [
            "7>11>3>2>9>null\n"
          ]
        }
      ]
    },
    {
      "cell_type": "markdown",
      "source": [
        "**Finding Lowest Value**"
      ],
      "metadata": {
        "id": "3pqPU5aXGp99"
      }
    },
    {
      "cell_type": "code",
      "source": [
        "class Node:\n",
        "  def __init__(self, data):\n",
        "    self.data=data\n",
        "    self.next=None\n",
        "def findLowestValue(head):\n",
        "  minValue=head.data\n",
        "  currentNode=head.next\n",
        "  while currentNode:\n",
        "    if currentNode.data<minValue:\n",
        "      minValue=currentNode.data\n",
        "    currentNode=currentNode.next\n",
        "  return minValue\n",
        "node1=Node(7)\n",
        "node2=Node(11)\n",
        "node3=Node(3)\n",
        "node4=Node(2)\n",
        "node5=Node(9)\n",
        "\n",
        "node1.next=node2\n",
        "node2.next=node3\n",
        "node3.next=node4\n",
        "node4.next=node5\n",
        "\n",
        "print(\"The lowest value in the linked list is:\",findLowestValue(node1))\n"
      ],
      "metadata": {
        "colab": {
          "base_uri": "https://localhost:8080/"
        },
        "id": "dk1apn1KDNB7",
        "outputId": "a779cf08-39eb-4c91-ef62-0b132eccacfc"
      },
      "execution_count": null,
      "outputs": [
        {
          "output_type": "stream",
          "name": "stdout",
          "text": [
            "The lowest value in the linked list is: 2\n"
          ]
        }
      ]
    },
    {
      "cell_type": "markdown",
      "source": [
        "**Deleting a specific node**"
      ],
      "metadata": {
        "id": "1Uq6CqZ7MiyA"
      }
    },
    {
      "cell_type": "code",
      "source": [
        "class Node:\n",
        "    def __init__(self, data):\n",
        "        self.data = data\n",
        "        self.next = None\n",
        "\n",
        "def traverseAndPrint(head):\n",
        "    currentNode = head\n",
        "    while currentNode:\n",
        "        print(currentNode.data, end=\" -> \")\n",
        "        currentNode = currentNode.next\n",
        "    print(\"null\")\n",
        "\n",
        "def deleteSpecificNode(head, nodeToDelete):\n",
        "\n",
        "    if head == nodeToDelete:\n",
        "        return head.next\n",
        "\n",
        "    currentNode = head\n",
        "    while currentNode.next and currentNode.next != nodeToDelete:\n",
        "        currentNode = currentNode.next\n",
        "\n",
        "    if currentNode.next is None:\n",
        "        return head\n",
        "\n",
        "    currentNode.next = currentNode.next.next\n",
        "\n",
        "    return head\n",
        "\n",
        "node1 = Node(7)\n",
        "node2 = Node(11)\n",
        "node3 = Node(3)\n",
        "node4 = Node(2)\n",
        "node5 = Node(9)\n",
        "\n",
        "node1.next = node2\n",
        "node2.next = node3\n",
        "node3.next = node4\n",
        "node4.next = node5\n",
        "\n",
        "print(\"Before deletion:\")\n",
        "traverseAndPrint(node1)\n",
        "\n",
        "# Delete node4\n",
        "node1 = deleteSpecificNode(node1, node4)\n",
        "\n",
        "print(\"\\nAfter deletion:\")\n",
        "traverseAndPrint(node1)"
      ],
      "metadata": {
        "colab": {
          "base_uri": "https://localhost:8080/"
        },
        "id": "kdlI5NlkLmQo",
        "outputId": "7f038380-fd10-4934-aa37-c8c36421f80b"
      },
      "execution_count": null,
      "outputs": [
        {
          "output_type": "stream",
          "name": "stdout",
          "text": [
            "Before deletion:\n",
            "7 -> 11 -> 3 -> 2 -> 9 -> null\n",
            "\n",
            "After deletion:\n",
            "7 -> 11 -> 3 -> 9 -> null\n"
          ]
        }
      ]
    },
    {
      "cell_type": "markdown",
      "source": [
        "**Inserting a specific Node**"
      ],
      "metadata": {
        "id": "rVJ4_J1NWEDQ"
      }
    },
    {
      "cell_type": "code",
      "source": [
        "class Node:\n",
        "    def __init__(self, data):\n",
        "        self.data = data\n",
        "        self.next = None\n",
        "\n",
        "def traverseAndPrint(head):\n",
        "    currentNode = head\n",
        "    while currentNode:\n",
        "        print(currentNode.data, end=\" -> \")\n",
        "        currentNode = currentNode.next\n",
        "    print(\"null\")\n",
        "\n",
        "def insertNodeAtPosition(head, newNode, position):\n",
        "    if position == 1:\n",
        "        newNode.next = head\n",
        "        return newNode\n",
        "\n",
        "    currentNode = head\n",
        "    for _ in range(position - 2):\n",
        "        if currentNode is None:\n",
        "            break\n",
        "        currentNode = currentNode.next\n",
        "\n",
        "    newNode.next = currentNode.next\n",
        "    currentNode.next = newNode\n",
        "    return head\n",
        "\n",
        "node1 = Node(7)\n",
        "node2 = Node(3)\n",
        "node3 = Node(2)\n",
        "node4 = Node(9)\n",
        "\n",
        "node1.next = node2\n",
        "node2.next = node3\n",
        "node3.next = node4\n",
        "\n",
        "print(\"Original list:\")\n",
        "traverseAndPrint(node1)\n",
        "\n",
        "# Insert a new node with value 97 at position 2\n",
        "newNode = Node(97)\n",
        "node1 = insertNodeAtPosition(node1, newNode, 2)\n",
        "\n",
        "print(\"\\nAfter insertion:\")\n",
        "traverseAndPrint(node1)\n",
        "\n",
        "\n",
        "\n",
        "\n",
        "\n",
        "\n",
        "\n",
        "\n",
        "\n",
        "\n",
        "\n",
        "\n",
        "\n",
        "\n"
      ],
      "metadata": {
        "colab": {
          "base_uri": "https://localhost:8080/"
        },
        "id": "FTCPHG_hVt8c",
        "outputId": "06396c0d-8aa8-4b7c-e100-8ba0b67f1388"
      },
      "execution_count": null,
      "outputs": [
        {
          "output_type": "stream",
          "name": "stdout",
          "text": [
            "Original list:\n",
            "7 -> 3 -> 2 -> 9 -> null\n",
            "\n",
            "After insertion:\n",
            "7 -> 97 -> 3 -> 2 -> 9 -> null\n"
          ]
        }
      ]
    },
    {
      "cell_type": "markdown",
      "source": [
        "**Stacks**"
      ],
      "metadata": {
        "id": "n2syT3RFgwKu"
      }
    },
    {
      "cell_type": "code",
      "source": [
        "stack=[]\n",
        "#Push\n",
        "stack.append('A')\n",
        "stack.append('B')\n",
        "stack.append('C')\n",
        "print(\"Stack:\",stack)\n",
        "\n",
        "#Pop\n",
        "element=stack.pop()\n",
        "print(\"Pop:\",element)\n",
        "\n",
        "#peek\n",
        "topElement=stack[-1]\n",
        "print(\"Peek:\",topElement)\n",
        "\n",
        "#isEmpty\n",
        "isEmpty=not bool(stack)\n",
        "print(\"isEmpty:\",isEmpty)\n",
        "\n",
        "#Size\n",
        "print(\"Size:\",len(stack))\n"
      ],
      "metadata": {
        "colab": {
          "base_uri": "https://localhost:8080/"
        },
        "id": "eOYvPritV_tR",
        "outputId": "dfebde1a-2a17-4391-fdd5-e87cf02aa9d4"
      },
      "execution_count": null,
      "outputs": [
        {
          "output_type": "stream",
          "name": "stdout",
          "text": [
            "Stack: ['A', 'B', 'C']\n",
            "Pop: C\n",
            "Peek: B\n",
            "isEmpty: False\n",
            "Size: 2\n"
          ]
        }
      ]
    },
    {
      "cell_type": "code",
      "source": [
        "class Stack:\n",
        "  def __init__(self):\n",
        "    self.stack=[]\n",
        "  def push(self,element):\n",
        "    self.stack.append(element)\n",
        "  def pop(self):\n",
        "    if self.isEmpty():\n",
        "      return \"Stack is empty\"\n",
        "    return self.stack.pop()\n",
        "  def peek(self):\n",
        "    if self.isEmpty():\n",
        "      return \"Stack is empty\"\n",
        "    return self.stack[-1]\n",
        "  def isEmpty(self):\n",
        "    return len(self.stack)==0\n",
        "  def size(self):\n",
        "    return(self.stack)\n",
        "# Create a stack\n",
        "myStack=Stack()\n",
        "myStack.push('A')\n",
        "myStack.push('B')\n",
        "myStack.push('C')\n",
        "\n",
        "print(\"Stack:\",myStack.stack)\n",
        "print(\"Pop:\",myStack.pop())\n",
        "print(\"isEmpty:\",myStack.isEmpty())\n",
        "print(\"Size:\",myStack.size())\n",
        "\n",
        "\n"
      ],
      "metadata": {
        "id": "YDFNh4GGixjF",
        "colab": {
          "base_uri": "https://localhost:8080/"
        },
        "outputId": "199efab7-059e-414a-89fd-bc3cd4a5ef73"
      },
      "execution_count": null,
      "outputs": [
        {
          "output_type": "stream",
          "name": "stdout",
          "text": [
            "Stack: ['A', 'B', 'C']\n",
            "Pop: C\n",
            "isEmpty: False\n",
            "Size: ['A', 'B']\n"
          ]
        }
      ]
    },
    {
      "cell_type": "code",
      "source": [
        "class Node:\n",
        "    def __init__(self, value):\n",
        "        self.value = value\n",
        "        self.next = None\n",
        "\n",
        "class Stack:\n",
        "    def __init__(self):\n",
        "        self.head = None\n",
        "        self.size = 0\n",
        "\n",
        "    def push(self, value):\n",
        "        new_node = Node(value)\n",
        "        if self.head:\n",
        "            new_node.next = self.head\n",
        "        self.head = new_node\n",
        "        self.size += 1\n",
        "\n",
        "    def pop(self):\n",
        "        if self.isEmpty():\n",
        "            return \"Stack is empty\"\n",
        "        popped_node = self.head\n",
        "        self.head = self.head.next\n",
        "        self.size -= 1\n",
        "        return popped_node.value\n",
        "\n",
        "    def peek(self):\n",
        "        if self.isEmpty():\n",
        "            return \"Stack is empty\"\n",
        "        return self.head.value\n",
        "\n",
        "    def isEmpty(self):\n",
        "        return self.size == 0\n",
        "\n",
        "    def stackSize(self):\n",
        "        return self.size\n",
        "\n",
        "myStack = Stack()\n",
        "myStack.push('A')\n",
        "myStack.push('B')\n",
        "myStack.push('C')\n",
        "\n",
        "print(\"Pop: \", myStack.pop())\n",
        "print(\"Peek: \", myStack.peek())\n",
        "print(\"isEmpty: \", myStack.isEmpty())\n",
        "print(\"Size: \", myStack.stackSize())\n"
      ],
      "metadata": {
        "colab": {
          "base_uri": "https://localhost:8080/"
        },
        "id": "Ulx_Yg6EZhXv",
        "outputId": "1082470d-7e88-4c80-f373-804fe4976799"
      },
      "execution_count": null,
      "outputs": [
        {
          "output_type": "stream",
          "name": "stdout",
          "text": [
            "Pop:  C\n",
            "Peek:  B\n",
            "isEmpty:  False\n",
            "Size:  2\n"
          ]
        }
      ]
    },
    {
      "cell_type": "markdown",
      "source": [
        "**Queues**"
      ],
      "metadata": {
        "id": "UuUIFuZ-Q_Qm"
      }
    },
    {
      "cell_type": "code",
      "source": [
        "queue = []\n",
        "\n",
        "# Enqueue\n",
        "queue.append('A')\n",
        "queue.append('B')\n",
        "queue.append('C')\n",
        "print(\"Queue: \", queue)\n",
        "\n",
        "# Dequeue\n",
        "element = queue.pop(0)\n",
        "print(\"Dequeue: \", element)\n",
        "\n",
        "# Peek\n",
        "frontElement = queue[0]\n",
        "print(\"Peek: \", frontElement)\n",
        "\n",
        "# isEmpty\n",
        "isEmpty = not bool(queue)\n",
        "print(\"isEmpty: \", isEmpty)\n",
        "\n",
        "# Size\n",
        "print(\"Size: \", len(queue))"
      ],
      "metadata": {
        "id": "QIUdg5V1aAbL",
        "colab": {
          "base_uri": "https://localhost:8080/"
        },
        "outputId": "79f29842-23b5-4d73-f14d-6ed3d1597762"
      },
      "execution_count": null,
      "outputs": [
        {
          "output_type": "stream",
          "name": "stdout",
          "text": [
            "Queue:  ['A', 'B', 'C']\n",
            "Dequeue:  A\n",
            "Peek:  B\n",
            "isEmpty:  False\n",
            "Size:  2\n"
          ]
        }
      ]
    },
    {
      "cell_type": "markdown",
      "source": [
        "**Queue with Arrays**"
      ],
      "metadata": {
        "id": "1w31pHYBRU4G"
      }
    },
    {
      "cell_type": "code",
      "source": [
        "class Queue:\n",
        "    def __init__(self):\n",
        "        self.queue = []\n",
        "\n",
        "    def enqueue(self, element):\n",
        "        self.queue.append(element)\n",
        "\n",
        "    def dequeue(self):\n",
        "        if self.isEmpty():\n",
        "            return \"Queue is empty\"\n",
        "        return self.queue.pop(0)\n",
        "\n",
        "    def peek(self):\n",
        "        if self.isEmpty():\n",
        "            return \"Queue is empty\"\n",
        "        return self.queue[0]\n",
        "\n",
        "    def isEmpty(self):\n",
        "        return len(self.queue) == 0\n",
        "\n",
        "    def size(self):\n",
        "        return len(self.queue)\n",
        "\n",
        "# Create a queue\n",
        "myQueue = Queue()\n",
        "\n",
        "myQueue.enqueue('A')\n",
        "myQueue.enqueue('B')\n",
        "myQueue.enqueue('C')\n",
        "print(\"Queue: \", myQueue.queue)\n",
        "\n",
        "print(\"Dequeue: \", myQueue.dequeue())\n",
        "\n",
        "print(\"Peek: \", myQueue.peek())\n",
        "\n",
        "print(\"isEmpty: \", myQueue.isEmpty())\n",
        "\n",
        "print(\"Size: \", myQueue.size())"
      ],
      "metadata": {
        "colab": {
          "base_uri": "https://localhost:8080/"
        },
        "id": "X1g_zFqDRJpg",
        "outputId": "56296ed9-c589-4767-84e6-1785d64a6ac1"
      },
      "execution_count": null,
      "outputs": [
        {
          "output_type": "stream",
          "name": "stdout",
          "text": [
            "Queue:  ['A', 'B', 'C']\n",
            "Dequeue:  A\n",
            "Peek:  B\n",
            "isEmpty:  False\n",
            "Size:  2\n"
          ]
        }
      ]
    },
    {
      "cell_type": "markdown",
      "source": [
        "**Queue with Linked Lists**"
      ],
      "metadata": {
        "id": "fRNsZ5msRig7"
      }
    },
    {
      "cell_type": "code",
      "source": [
        "class Node:\n",
        "    def __init__(self, data):\n",
        "        self.data = data\n",
        "        self.next = None\n",
        "\n",
        "class Queue:\n",
        "    def __init__(self):\n",
        "        self.front = None\n",
        "        self.rear = None\n",
        "        self.length = 0\n",
        "\n",
        "    def enqueue(self, element):\n",
        "        new_node = Node(element)\n",
        "        if self.rear is None:\n",
        "            self.front = self.rear = new_node\n",
        "            self.length += 1\n",
        "            return\n",
        "        self.rear.next = new_node\n",
        "        self.rear = new_node\n",
        "        self.length += 1\n",
        "\n",
        "    def dequeue(self):\n",
        "        if self.isEmpty():\n",
        "            return \"Queue is empty\"\n",
        "        temp = self.front\n",
        "        self.front = temp.next\n",
        "        self.length -= 1\n",
        "        if self.front is None:\n",
        "            self.rear = None\n",
        "        return temp.data\n",
        "\n",
        "    def peek(self):\n",
        "        if self.isEmpty():\n",
        "            return \"Queue is empty\"\n",
        "        return self.front.data\n",
        "\n",
        "    def isEmpty(self):\n",
        "        return self.length == 0\n",
        "\n",
        "    def size(self):\n",
        "        return self.length\n",
        "\n",
        "    def printQueue(self):\n",
        "        temp = self.front\n",
        "        while temp:\n",
        "            print(temp.data, end=\" \")\n",
        "            temp = temp.next\n",
        "        print()\n",
        "\n",
        "# Create a queue\n",
        "myQueue = Queue()\n",
        "\n",
        "myQueue.enqueue('A')\n",
        "myQueue.enqueue('B')\n",
        "myQueue.enqueue('C')\n",
        "print(\"Queue: \", end=\"\")\n",
        "myQueue.printQueue()\n",
        "\n",
        "print(\"Dequeue: \", myQueue.dequeue())\n",
        "\n",
        "print(\"Peek: \", myQueue.peek())\n",
        "\n",
        "print(\"isEmpty: \", myQueue.isEmpty())\n",
        "\n",
        "print(\"Size: \", myQueue.size())"
      ],
      "metadata": {
        "colab": {
          "base_uri": "https://localhost:8080/"
        },
        "id": "IGkA_O4YRg-Q",
        "outputId": "b8f25fb1-060c-434c-e8bf-2fb3ad39a6d4"
      },
      "execution_count": null,
      "outputs": [
        {
          "output_type": "stream",
          "name": "stdout",
          "text": [
            "Queue: A B C \n",
            "Dequeue:  A\n",
            "Peek:  B\n",
            "isEmpty:  False\n",
            "Size:  2\n"
          ]
        }
      ]
    },
    {
      "cell_type": "markdown",
      "source": [
        "**Hash Table**"
      ],
      "metadata": {
        "id": "fIp5EQBPoxZH"
      }
    },
    {
      "cell_type": "code",
      "source": [
        "my_hash_set = [None,'Jones',None,'Lisa',None,'Bob',None,'Siri','Pete',None]\n",
        "\n",
        "def hash_function(value):\n",
        "    sum_of_chars = 0\n",
        "    for char in value:\n",
        "        sum_of_chars += ord(char)\n",
        "\n",
        "    return sum_of_chars % 10\n",
        "\n",
        "def contains(name):\n",
        "    index = hash_function(name)\n",
        "    return my_hash_set[index] == name\n",
        "\n",
        "print(\"'Pete' is in the Hash Set:\",contains('Pete'))"
      ],
      "metadata": {
        "id": "2GZfjH_pR0Ou",
        "colab": {
          "base_uri": "https://localhost:8080/"
        },
        "outputId": "1b6a8321-58b8-4a47-d482-0b345260ed2e"
      },
      "execution_count": null,
      "outputs": [
        {
          "output_type": "stream",
          "name": "stdout",
          "text": [
            "'Pete' is in the Hash Set: True\n"
          ]
        }
      ]
    },
    {
      "cell_type": "markdown",
      "source": [
        "**Hash Set**"
      ],
      "metadata": {
        "id": "FuUWSkiFo_Ll"
      }
    },
    {
      "cell_type": "code",
      "source": [
        "class SimpleHashSet:\n",
        "    def __init__(self, size=100):\n",
        "        self.size = size\n",
        "        self.buckets = [[] for _ in range(size)]  # A list of buckets, each is a list (to handle collisions)\n",
        "\n",
        "    def hash_function(self, value):\n",
        "        # Simple hash function: sum of character codes modulo the number of buckets\n",
        "        return sum(ord(char) for char in value) % self.size\n",
        "\n",
        "    def add(self, value):\n",
        "        # Add a value if it's not already present\n",
        "        index = self.hash_function(value)\n",
        "        bucket = self.buckets[index]\n",
        "        if value not in bucket:\n",
        "            bucket.append(value)\n",
        "\n",
        "    def contains(self, value):\n",
        "        # Check if a value exists in the set\n",
        "        index = self.hash_function(value)\n",
        "        bucket = self.buckets[index]\n",
        "        return value in bucket\n",
        "\n",
        "    def remove(self, value):\n",
        "        # Remove a value\n",
        "        index = self.hash_function(value)\n",
        "        bucket = self.buckets[index]\n",
        "        if value in bucket:\n",
        "            bucket.remove(value)\n",
        "\n",
        "    def print_set(self):\n",
        "        # Print all elements in the hash set\n",
        "        print(\"Hash Set Contents:\")\n",
        "        for index, bucket in enumerate(self.buckets):\n",
        "            print(f\"Bucket {index}: {bucket}\")\n",
        "\n",
        "# Creating the Hash Set from the simulation\n",
        "hash_set = SimpleHashSet(size=10)\n",
        "\n",
        "hash_set.add(\"Charlotte\")\n",
        "hash_set.add(\"Thomas\")\n",
        "hash_set.add(\"Jens\")\n",
        "hash_set.add(\"Peter\")\n",
        "hash_set.add(\"Lisa\")\n",
        "hash_set.add(\"Adele\")\n",
        "hash_set.add(\"Michaela\")\n",
        "hash_set.add(\"Bob\")\n",
        "\n",
        "hash_set.print_set()\n",
        "\n",
        "print(\"\\n'Peter' is in the set:\",hash_set.contains('Peter'))\n",
        "print(\"Removing 'Peter'\")\n",
        "hash_set.remove('Peter')\n",
        "print(\"'Peter' is in the set:\",hash_set.contains('Peter'))\n",
        "print(\"'Adele' has hash code:\",hash_set.hash_function('Adele'))\n"
      ],
      "metadata": {
        "colab": {
          "base_uri": "https://localhost:8080/"
        },
        "id": "vXqPI8b4o62c",
        "outputId": "cf51e209-3dff-4d8c-fb0c-97c0ae36359f"
      },
      "execution_count": null,
      "outputs": [
        {
          "output_type": "stream",
          "name": "stdout",
          "text": [
            "Hash Set Contents:\n",
            "Bucket 0: ['Thomas', 'Jens']\n",
            "Bucket 1: []\n",
            "Bucket 2: ['Peter']\n",
            "Bucket 3: ['Lisa']\n",
            "Bucket 4: ['Charlotte']\n",
            "Bucket 5: ['Adele', 'Bob']\n",
            "Bucket 6: []\n",
            "Bucket 7: []\n",
            "Bucket 8: ['Michaela']\n",
            "Bucket 9: []\n",
            "\n",
            "'Peter' is in the set: True\n",
            "Removing 'Peter'\n",
            "'Peter' is in the set: False\n",
            "'Adele' has hash code: 5\n"
          ]
        }
      ]
    },
    {
      "cell_type": "code",
      "source": [
        "class SimpleHashSet:\n",
        "    def __init__(self, size=100):\n",
        "        self.size = size\n",
        "        self.buckets = [[] for _ in range(size)]  # A list of buckets, each is a list (to handle collisions)\n",
        "\n",
        "    def hash_function(self, value):\n",
        "        # Simple hash function: sum of character codes modulo the number of buckets\n",
        "        return sum(ord(char) for char in value) % self.size\n",
        "\n",
        "    def add(self, value):\n",
        "        # Add a value if it's not already present\n",
        "        index = self.hash_function(value)\n",
        "        bucket = self.buckets[index]\n",
        "        if value not in bucket:\n",
        "            bucket.append(value)\n",
        "\n",
        "    def contains(self, value):\n",
        "        # Check if a value exists in the set\n",
        "        index = self.hash_function(value)\n",
        "        bucket = self.buckets[index]\n",
        "        return value in bucket\n",
        "\n",
        "    def remove(self, value):\n",
        "        # Remove a value\n",
        "        index = self.hash_function(value)\n",
        "        bucket = self.buckets[index]\n",
        "        if value in bucket:\n",
        "            bucket.remove(value)\n",
        "\n",
        "    def print_set(self):\n",
        "        # Print all elements in the hash set\n",
        "        print(\"Hash Set Contents:\")\n",
        "        for index, bucket in enumerate(self.buckets):\n",
        "            print(f\"Bucket {index}: {bucket}\")\n",
        "hash_set=SimpleHashSet(size=10)\n",
        "\n",
        "hash_set.add(\"Fahad\")\n",
        "hash_set.add(\"Farhan\")\n",
        "hash_set.add(\"Rafi\")\n",
        "hash_set.add(\"Emon\")\n",
        "hash_set.add(\"Shahrukh\")\n",
        "hash_set.add(\"Sydney Sweney\")\n",
        "hash_set.add(\"Ana De Armas\")\n",
        "hash_set.add(\"Angelina Jolie\")\n",
        "hash_set.print_set()\n",
        "\n",
        "print(\"\\n'Sydney Sweney' is in the set:\",hash_set.contains('Sydney Sweney'))\n",
        "print(\"Removing 'Sydney Sweney'\")\n",
        "hash_set.remove('Sydney Sweney')\n",
        "print(\"'Sydney Sweney' is in the set:\",hash_set.contains('Sydney Sweney'))\n",
        "print(\"'Ana De Armas' has hash code:\",hash_set.hash_function('Ana De Armas'))"
      ],
      "metadata": {
        "colab": {
          "base_uri": "https://localhost:8080/"
        },
        "id": "3HUbgLRRpVmx",
        "outputId": "99f9f28d-4017-40ec-91a1-38958273d27c"
      },
      "execution_count": null,
      "outputs": [
        {
          "output_type": "stream",
          "name": "stdout",
          "text": [
            "Hash Set Contents:\n",
            "Bucket 0: ['Shahrukh', 'Angelina Jolie']\n",
            "Bucket 1: []\n",
            "Bucket 2: ['Farhan']\n",
            "Bucket 3: ['Sydney Sweney']\n",
            "Bucket 4: []\n",
            "Bucket 5: ['Ana De Armas']\n",
            "Bucket 6: ['Rafi']\n",
            "Bucket 7: []\n",
            "Bucket 8: ['Fahad']\n",
            "Bucket 9: ['Emon']\n",
            "\n",
            "'Sydney Sweney' is in the set: True\n",
            "Removing 'Sydney Sweney'\n",
            "'Sydney Sweney' is in the set: False\n",
            "'Ana De Armas' has hash code: 5\n"
          ]
        }
      ]
    },
    {
      "cell_type": "markdown",
      "source": [
        "**Hash Map**"
      ],
      "metadata": {
        "id": "rtbPzHyOvkqH"
      }
    },
    {
      "cell_type": "code",
      "source": [
        "class SimpleHashMap:\n",
        "    def __init__(self, size=100):\n",
        "        self.size = size\n",
        "        self.buckets = [[] for _ in range(size)]  # A list of buckets, each is a list (to handle collisions)\n",
        "\n",
        "    def hash_function(self, key):\n",
        "        # Sum only the numerical values of the key, ignoring non-numeric characters\n",
        "        numeric_sum = sum(int(char) for char in key if char.isdigit())\n",
        "        return numeric_sum % 10  # Perform modulo 10 on the sum\n",
        "\n",
        "    def put(self, key, value):\n",
        "        # Add or update a key-value pair\n",
        "        index = self.hash_function(key)\n",
        "        bucket = self.buckets[index]\n",
        "        for i, (k, v) in enumerate(bucket):\n",
        "            if k == key:\n",
        "                bucket[i] = (key, value)  # Update existing key\n",
        "                return\n",
        "        bucket.append((key, value))  # Add new key-value pair if not found\n",
        "\n",
        "    def get(self, key):\n",
        "        # Retrieve a value by key\n",
        "        index = self.hash_function(key)\n",
        "        bucket = self.buckets[index]\n",
        "        for k, v in bucket:\n",
        "            if k == key:\n",
        "                return v\n",
        "        return None  # Key not found\n",
        "\n",
        "    def remove(self, key):\n",
        "        # Remove a key-value pair\n",
        "        index = self.hash_function(key)\n",
        "        bucket = self.buckets[index]\n",
        "        for i, (k, v) in enumerate(bucket):\n",
        "            if k == key:\n",
        "                del bucket[i]  # Remove the key-value pair\n",
        "                return\n",
        "\n",
        "    def print_map(self):\n",
        "        # Print all key-value pairs in the hash map\n",
        "        print(\"Hash Map Contents:\")\n",
        "        for index, bucket in enumerate(self.buckets):\n",
        "            print(f\"Bucket {index}: {bucket}\")\n",
        "\n",
        "# Creating the Hash Map from the simulation\n",
        "hash_map = SimpleHashMap(size=10)\n",
        "\n",
        "# Adding some entries\n",
        "hash_map.put(\"123-4567\", \"Charlotte\")\n",
        "hash_map.put(\"123-4568\", \"Thomas\")\n",
        "hash_map.put(\"123-4569\", \"Jens\")\n",
        "hash_map.put(\"123-4570\", \"Peter\")\n",
        "hash_map.put(\"123-4571\", \"Lisa\")\n",
        "hash_map.put(\"123-4672\", \"Adele\")\n",
        "hash_map.put(\"123-4573\", \"Michaela\")\n",
        "hash_map.put(\"123-6574\", \"Bob\")\n",
        "\n",
        "hash_map.print_map()\n",
        "\n",
        "# Demonstrating retrieval\n",
        "print(\"\\nName associated with '123-4570':\", hash_map.get(\"123-4570\"))\n",
        "\n",
        "print(\"Updating the name for '123-4570' to 'James'\")\n",
        "hash_map.put(\"123-4570\",\"James\")\n",
        "\n",
        "# Checking if Peter is still there\n",
        "print(\"Name associated with '123-4570':\", hash_map.get(\"123-4570\"))\n"
      ],
      "metadata": {
        "id": "RCwkWTrRCBa3",
        "colab": {
          "base_uri": "https://localhost:8080/"
        },
        "outputId": "61ea6726-1697-451f-c15f-0ef1915d3a7d"
      },
      "execution_count": null,
      "outputs": [
        {
          "output_type": "stream",
          "name": "stdout",
          "text": [
            "Hash Map Contents:\n",
            "Bucket 0: [('123-4569', 'Jens')]\n",
            "Bucket 1: []\n",
            "Bucket 2: [('123-4570', 'Peter')]\n",
            "Bucket 3: [('123-4571', 'Lisa')]\n",
            "Bucket 4: []\n",
            "Bucket 5: [('123-4672', 'Adele'), ('123-4573', 'Michaela')]\n",
            "Bucket 6: []\n",
            "Bucket 7: []\n",
            "Bucket 8: [('123-4567', 'Charlotte'), ('123-6574', 'Bob')]\n",
            "Bucket 9: [('123-4568', 'Thomas')]\n",
            "\n",
            "Name associated with '123-4570': Peter\n",
            "Updating the name for '123-4570' to 'James'\n",
            "Name associated with '123-4570': James\n"
          ]
        }
      ]
    },
    {
      "cell_type": "code",
      "source": [
        "class SimpleHashMap:\n",
        "    def __init__(self, size=100):\n",
        "        self.size = size\n",
        "        self.buckets = [[] for _ in range(size)]  # A list of buckets, each is a list (to handle collisions)\n",
        "\n",
        "    def hash_function(self, key):\n",
        "        # Sum only the numerical values of the key, ignoring non-numeric characters\n",
        "        numeric_sum = sum(int(char) for char in key if char.isdigit())\n",
        "        return numeric_sum % 10  # Perform modulo 10 on the sum\n",
        "\n",
        "    def put(self, key, value):\n",
        "        # Add or update a key-value pair\n",
        "        index = self.hash_function(key)\n",
        "        bucket = self.buckets[index]\n",
        "        for i, (k, v) in enumerate(bucket):\n",
        "            if k == key:\n",
        "                bucket[i] = (key, value)  # Update existing key\n",
        "                return\n",
        "        bucket.append((key, value))  # Add new key-value pair if not found\n",
        "\n",
        "    def get(self, key):\n",
        "        # Retrieve a value by key\n",
        "        index = self.hash_function(key)\n",
        "        bucket = self.buckets[index]\n",
        "        for k, v in bucket:\n",
        "            if k == key:\n",
        "                return v\n",
        "        return None  # Key not found\n",
        "\n",
        "    def remove(self, key):\n",
        "        # Remove a key-value pair\n",
        "        index = self.hash_function(key)\n",
        "        bucket = self.buckets[index]\n",
        "        for i, (k, v) in enumerate(bucket):\n",
        "            if k == key:\n",
        "                del bucket[i]  # Remove the key-value pair\n",
        "                return\n",
        "\n",
        "    def print_map(self):\n",
        "        # Print all key-value pairs in the hash map\n",
        "        print(\"Hash Map Contents:\")\n",
        "        for index, bucket in enumerate(self.buckets):\n",
        "            print(f\"Bucket {index}: {bucket}\")\n",
        "\n",
        "hash_map = SimpleHashMap(size=10)\n",
        "\n",
        "# Adding some entries\n",
        "hash_map.put(\"123-4567\", \"Ana De Armas\")\n",
        "hash_map.put(\"123-4568\", \"Megan Fox\")\n",
        "hash_map.put(\"123-4569\", \"Ele Fanning\")\n",
        "hash_map.put(\"123-4570\", \"Jayed Khan\")\n",
        "hash_map.put(\"123-4571\", \"Tom Cruise\")\n",
        "hash_map.put(\"123-4672\", \"Robert Pattinson\")\n",
        "hash_map.put(\"123-4573\", \"David Beckham\")\n",
        "hash_map.put(\"123-6574\", \"Brad Pitt\")\n",
        "\n",
        "hash_map.print_map()\n",
        "\n",
        "# Demonstrating retrieval\n",
        "print(\"\\nName associated with '123-4570':\", hash_map.get(\"123-4570\"))\n",
        "\n",
        "print(\"Updating the name for '123-4570' to 'Sydney Sweeney'\")\n",
        "hash_map.put(\"123-4570\",\"Sydney Sweeney\")\n",
        "\n",
        "# Checking if Peter is still there\n",
        "print(\"Name associated with '123-4570':\", hash_map.get(\"123-4570\"))\n",
        "\n"
      ],
      "metadata": {
        "colab": {
          "base_uri": "https://localhost:8080/"
        },
        "id": "9zF27O6v_EDh",
        "outputId": "3ab3c95a-1056-4e9b-e8b7-bfd231ae82ae"
      },
      "execution_count": null,
      "outputs": [
        {
          "output_type": "stream",
          "name": "stdout",
          "text": [
            "Hash Map Contents:\n",
            "Bucket 0: [('123-4569', 'Ele Fanning')]\n",
            "Bucket 1: []\n",
            "Bucket 2: [('123-4570', 'Jayed Khan')]\n",
            "Bucket 3: [('123-4571', 'Tom Cruise')]\n",
            "Bucket 4: []\n",
            "Bucket 5: [('123-4672', 'Robert Pattinson'), ('123-4573', 'David Beckham')]\n",
            "Bucket 6: []\n",
            "Bucket 7: []\n",
            "Bucket 8: [('123-4567', 'Ana De Armas'), ('123-6574', 'Brad Pitt')]\n",
            "Bucket 9: [('123-4568', 'Megan Fox')]\n",
            "\n",
            "Name associated with '123-4570': Jayed Khan\n",
            "Updating the name for '123-4570' to 'Sydney Sweeney'\n",
            "Name associated with '123-4570': Sydney Sweeney\n"
          ]
        }
      ]
    },
    {
      "cell_type": "markdown",
      "source": [
        " **Tree**"
      ],
      "metadata": {
        "id": "1SqBuui2VWAX"
      }
    },
    {
      "cell_type": "markdown",
      "source": [
        "**Binary tree**"
      ],
      "metadata": {
        "id": "tI0-SEHEi4Di"
      }
    },
    {
      "cell_type": "code",
      "source": [
        "class TreeNode:\n",
        "    def __init__(self, data):\n",
        "        self.data = data\n",
        "        self.left = None\n",
        "        self.right = None\n",
        "\n",
        "root = TreeNode('R')\n",
        "nodeA = TreeNode('A')\n",
        "nodeB = TreeNode('B')\n",
        "nodeC = TreeNode('C')\n",
        "nodeD = TreeNode('D')\n",
        "nodeE = TreeNode('E')\n",
        "nodeF = TreeNode('F')\n",
        "nodeG = TreeNode('G')\n",
        "\n",
        "root.left = nodeA\n",
        "root.right = nodeB\n",
        "\n",
        "nodeA.left = nodeC\n",
        "nodeA.right = nodeD\n",
        "\n",
        "nodeB.left = nodeE\n",
        "nodeB.right = nodeF\n",
        "\n",
        "nodeF.left = nodeG\n",
        "\n",
        "# Test\n",
        "print(\"root.right.left.data:\", root.right.left.data)"
      ],
      "metadata": {
        "colab": {
          "base_uri": "https://localhost:8080/"
        },
        "id": "zLC4ysB-XMVQ",
        "outputId": "6180e71b-f378-4d2c-b762-fa224691c967"
      },
      "execution_count": null,
      "outputs": [
        {
          "output_type": "stream",
          "name": "stdout",
          "text": [
            "root.right.left.data: E\n"
          ]
        }
      ]
    },
    {
      "cell_type": "markdown",
      "source": [
        "**Pre-Order Traversal**"
      ],
      "metadata": {
        "id": "2krlKOJvr3GF"
      }
    },
    {
      "cell_type": "code",
      "source": [
        "def preOrderTraversal(node):\n",
        "    if node is None:\n",
        "        return\n",
        "    print(node.data, end=\", \")\n",
        "    preOrderTraversal(node.left)\n",
        "    preOrderTraversal(node.right)"
      ],
      "metadata": {
        "id": "ktdg2f2wbuXF"
      },
      "execution_count": null,
      "outputs": []
    },
    {
      "cell_type": "markdown",
      "source": [
        "*Binary Search Tree*"
      ],
      "metadata": {
        "id": "guT4TL1tCnTJ"
      }
    },
    {
      "cell_type": "code",
      "source": [
        "class TreeNode:\n",
        "    def __init__(self, data):\n",
        "        self.data = data\n",
        "        self.left = None\n",
        "        self.right = None\n",
        "\n",
        "def inOrderTraversal(node):\n",
        "    if node is None:\n",
        "        return\n",
        "    inOrderTraversal(node.left)\n",
        "    print(node.data, end=\", \")\n",
        "    inOrderTraversal(node.right)\n",
        "\n",
        "root = TreeNode(13)\n",
        "node7 = TreeNode(7)\n",
        "node15 = TreeNode(15)\n",
        "node3 = TreeNode(3)\n",
        "node8 = TreeNode(8)\n",
        "node14 = TreeNode(14)\n",
        "node19 = TreeNode(19)\n",
        "node18 = TreeNode(18)\n",
        "\n",
        "root.left = node7\n",
        "root.right = node15\n",
        "\n",
        "node7.left = node3\n",
        "node7.right = node8\n",
        "\n",
        "node15.left = node14\n",
        "node15.right = node19\n",
        "\n",
        "node19.left = node18\n",
        "\n",
        "# Traverse\n",
        "inOrderTraversal(root)"
      ],
      "metadata": {
        "id": "H8-ISnKVsC4Z",
        "colab": {
          "base_uri": "https://localhost:8080/"
        },
        "outputId": "cf0bb96a-ee6f-4f9d-d3a9-16375321e450"
      },
      "execution_count": null,
      "outputs": [
        {
          "output_type": "stream",
          "name": "stdout",
          "text": [
            "3, 7, 8, 13, 14, 15, 18, 19, "
          ]
        }
      ]
    },
    {
      "cell_type": "code",
      "source": [],
      "metadata": {
        "id": "1DswhrdvCk4M"
      },
      "execution_count": null,
      "outputs": []
    }
  ]
}